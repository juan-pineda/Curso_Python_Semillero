{
 "cells": [
  {
   "cell_type": "code",
   "execution_count": null,
   "metadata": {},
   "outputs": [],
   "source": [
    "import pandas as pd \n",
    "import matplotlib.pyplot as plt"
   ]
  },
  {
   "cell_type": "code",
   "execution_count": null,
   "metadata": {},
   "outputs": [],
   "source": [
    "datos=pd.read_csv('data/techogar.csv',header=0)"
   ]
  },
  {
   "cell_type": "code",
   "execution_count": null,
   "metadata": {},
   "outputs": [],
   "source": [
    "# Observemos nuestro dataset\n",
    "datos"
   ]
  },
  {
   "cell_type": "code",
   "execution_count": null,
   "metadata": {},
   "outputs": [],
   "source": [
    "# si deseamos examinar/accesar una columna en particular\n",
    "datos['Cable']"
   ]
  },
  {
   "cell_type": "code",
   "execution_count": null,
   "metadata": {},
   "outputs": [],
   "source": [
    "# o si deseamos ver las tres primeras filas.\n",
    "datos.loc[0:3]"
   ]
  },
  {
   "cell_type": "code",
   "execution_count": null,
   "metadata": {},
   "outputs": [],
   "source": [
    "#ordena las filas según los números de teléfono de mayor a menor \n",
    "datos.sort_values(by='Teléfono',ascending=False)"
   ]
  },
  {
   "cell_type": "code",
   "execution_count": null,
   "metadata": {},
   "outputs": [],
   "source": [
    "# podemos crear una máscara para seleccionar solo aquellas filas donde\n",
    "# el número de teléfonos es menor a 10\n",
    "\n",
    "mask = (datos['Teléfono']<10)\n",
    "datos[mask]\n",
    "\n",
    "# lo mismo se podría lograr en una sola línea\n",
    "# datos[datos['Teléfono']<10]"
   ]
  },
  {
   "cell_type": "code",
   "execution_count": null,
   "metadata": {},
   "outputs": [],
   "source": [
    "# Vamos a graficar los datos de telefono y de internet en función del tiempo\n",
    "# para ver su comportamiento\n",
    "\n",
    "plt.plot(datos['Año'],datos['Teléfono'],color='r',alpha=0.6,label = \"Teléfono\")\n",
    "plt.plot(datos['Año'],datos['Internet'],marker=\"^\",color='g', label = \"Internet\")\n",
    "plt.title('Uso de telefono/Internet a traves de los años')\n",
    "plt.xlabel('años')\n",
    "plt.ylabel('uso de telefono')\n",
    "plt.legend(loc=\"upper center\", frameon=False)\n",
    "plt.grid()\n",
    "\n"
   ]
  },
  {
   "cell_type": "code",
   "execution_count": null,
   "metadata": {},
   "outputs": [],
   "source": []
  }
 ],
 "metadata": {
  "kernelspec": {
   "display_name": "Python 3",
   "language": "python",
   "name": "python3"
  },
  "language_info": {
   "codemirror_mode": {
    "name": "ipython",
    "version": 3
   },
   "file_extension": ".py",
   "mimetype": "text/x-python",
   "name": "python",
   "nbconvert_exporter": "python",
   "pygments_lexer": "ipython3",
   "version": "3.7.1"
  }
 },
 "nbformat": 4,
 "nbformat_minor": 2
}
