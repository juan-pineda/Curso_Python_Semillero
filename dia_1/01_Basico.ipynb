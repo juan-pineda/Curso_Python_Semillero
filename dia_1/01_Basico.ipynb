{
 "cells": [
  {
   "cell_type": "markdown",
   "metadata": {
    "slideshow": {
     "slide_type": "slide"
    }
   },
   "source": [
    "<img src=\"images/semana_ciencia.png\">\n",
    "\n",
    "\n",
    "# Introducción a Python\n",
    "\n",
    "<img src=\"images/python.png\">\n",
    "\n",
    "Python es un lenguaje de programación interpretado cuya filosofía hace hincapié en una sintaxis muy limpia y que favorezca un código legible.\n",
    "\n",
    "- Fue creado en 1991 por Guido van Rossum.\n",
    "- El nombre del lenguaje proviene de la afición de su creador original, por los humoristas británicos Monty Python.\n",
    "\n"
   ]
  },
  {
   "cell_type": "markdown",
   "metadata": {
    "slideshow": {
     "slide_type": "subslide"
    }
   },
   "source": [
    "## Características de Python\n",
    "\n",
    "- Código simple y legible.\n",
    "- Es un lenguaje interpretado y de alto nivel.\n",
    "- Soporta múltiples paradigmas de programación.\n",
    "- Fácilmente extendible usando código compilado en `C` y `C++`\n",
    "- Se ejecuta en cualquier sistema operativo (Windows, Linux, Mac OS)\n",
    "- Es totálmente libre.\n",
    "\n",
    "<img src=\"images/python_pypl.png\" width=\"40%\" align=\"center\">\n",
    "\n",
    "\n",
    "[1. Top 10 popular programming languages.](http://pypl.github.io/PYPL.html)\n",
    "\n",
    "\n",
    "## Python vs Matlab\n",
    "\n",
    "[Comparación](https://trends.google.com/trends/explore?date=today%205-y&q=%2Fm%2F05z1_,%2Fm%2F053_x) en Google Trends."
   ]
  },
  {
   "cell_type": "markdown",
   "metadata": {
    "slideshow": {
     "slide_type": "subslide"
    }
   },
   "source": [
    "### En qué áreas sobresale Python?\n",
    "\n",
    "* Desarrollo de Aplicaciones Web\n",
    "* Computación científica y numérica.\n",
    "* Inteligencia Artificial\n",
    "* Desarrolllo de GUI\n",
    "\n",
    "<img src=\"images/python_pypl2.png\">\n",
    "\n",
    "[2. Programming language trends.](http://pypl.github.io/PYPL.html)"
   ]
  },
  {
   "cell_type": "markdown",
   "metadata": {
    "slideshow": {
     "slide_type": "slide"
    }
   },
   "source": [
    "# Instalación de Python con Anaconda\n",
    "\n",
    "<img src=\"images/anaconda_logo.png\" width=\"20%\">\n",
    "\n",
    "## En Windows\n",
    "\n",
    "### Tutorial:\n",
    "https://medium.com/@GalarnykMichael/install-python-on-windows-anaconda-c63c7c3d1444\n",
    "\n",
    "### Descargar Anaconda:\n",
    "https://www.anaconda.com/download/#windows\n",
    "\n",
    "Instalar Anaconda usando el archivo ejecutable.\n",
    "En caso de duda durante la instalación, simplemente mantener las configuraciones por defecto.\n",
    "**Importante:** Activar la casilla _“Add Anaconda to my PATH environment variable”_\n",
    "\n",
    "Para testar:\n",
    "1. Abrir un terminal “Anaconda prompt”.\n",
    "2. Digitar los siguientes comandos y ver si los reconoce\n",
    "\n",
    "   ```\n",
    "   conda list\n",
    "   python --version\n",
    "   jupyter notebook  # Debe abrir un jupyter notebook en el navegador de internet\n",
    "   where python\n",
    "   where conda\n",
    "   ```\n",
    "\n",
    "## En Linux:\n",
    "\n",
    "### Tutorial\n",
    "<https://www.pugetsystems.com/labs/hpc/How-to-Install-Anaconda-Python-and-First-Steps-for-Linux-and-Windows-917/>\n",
    "\n",
    "1. Descargar la distribución de python3.6 de [anaconda](https://www.anaconda.com/download/#linux) para Linux (en nuestro caso ya fue descargada).\n",
    "2. Abrir un terminal en Linux\n",
    "  * `CTRL`+`ALT`+`T`\n",
    "3. Ir al directorio donde está el archivo descargado usando\n",
    "  * `cd Escritorio/Taller_01/`\n",
    "4. Para instalar la distribución digite:\n",
    "  * `bash Anaconda3-5.2.0-Linux-x86_64.sh`\n",
    "5. En caso de duda, seguir las configuraciones por defecto.\n",
    "6. Si le preguntan, autorizar a conda a actualizar la variable `PATH` para que conda y python sean visibles para todo el sistema. En otro caso, posiblemente tendremos que hacerlo a mano agregando al archivo `~/.bashrc` la línea:\n",
    "  * `export PATH=\"/home/centic/anaconda3/bin:$PATH\"`\n",
    "7. Abrir un terminal y digitar los siguientes comandos a ver si los reconoce:\n",
    "\n",
    "  ```\n",
    "  conda list\n",
    "  python --version\n",
    "  jupyter notebook  # Debe abrir un jupyter notebook en el navegador de internet\n",
    "  which python\n",
    "  which conda\n",
    "  ```\n",
    "\n",
    "6. Desde el terminal abrir el interprete de python usando `ipython`\n",
    "\n",
    "<img src=\"images/python_ready.png\">\n",
    "\n",
    "---"
   ]
  },
  {
   "cell_type": "code",
   "execution_count": null,
   "metadata": {},
   "outputs": [],
   "source": [
    "print('Hola mundo!')"
   ]
  },
  {
   "cell_type": "markdown",
   "metadata": {
    "slideshow": {
     "slide_type": "slide"
    }
   },
   "source": [
    "## Tipos numéricos\n",
    "\n",
    "Python dispone de los tipos numéricos y las operaciones más habituales"
   ]
  },
  {
   "cell_type": "code",
   "execution_count": null,
   "metadata": {},
   "outputs": [],
   "source": [
    "2 * 4 - (7-1) / 3 + 1.3"
   ]
  },
  {
   "cell_type": "markdown",
   "metadata": {},
   "source": [
    "Las divisiones por cero lanzan un error:"
   ]
  },
  {
   "cell_type": "code",
   "execution_count": null,
   "metadata": {},
   "outputs": [],
   "source": [
    "1 / 0"
   ]
  },
  {
   "cell_type": "markdown",
   "metadata": {},
   "source": [
    "La división entre enteros devuelve un número real."
   ]
  },
  {
   "cell_type": "code",
   "execution_count": null,
   "metadata": {},
   "outputs": [],
   "source": [
    "7 / 3"
   ]
  },
  {
   "cell_type": "markdown",
   "metadata": {},
   "source": [
    "Se puede forzar que la división sea entera en Python con el operador `//`"
   ]
  },
  {
   "cell_type": "code",
   "execution_count": null,
   "metadata": {},
   "outputs": [],
   "source": [
    "7 // 3"
   ]
  },
  {
   "cell_type": "markdown",
   "metadata": {},
   "source": [
    "Se puede realizar potenciación usando el operador `**`"
   ]
  },
  {
   "cell_type": "code",
   "execution_count": null,
   "metadata": {},
   "outputs": [],
   "source": [
    "2 ** 10"
   ]
  },
  {
   "cell_type": "markdown",
   "metadata": {},
   "source": [
    "Y podemos obtener el módulo de una división usando `%`"
   ]
  },
  {
   "cell_type": "code",
   "execution_count": null,
   "metadata": {},
   "outputs": [],
   "source": [
    "129 % 2"
   ]
  },
  {
   "cell_type": "markdown",
   "metadata": {},
   "source": [
    "Otro tipo que nos resultará muy útil son los complejos"
   ]
  },
  {
   "cell_type": "code",
   "execution_count": null,
   "metadata": {},
   "outputs": [],
   "source": [
    "2 + 3j"
   ]
  },
  {
   "cell_type": "markdown",
   "metadata": {
    "slideshow": {
     "slide_type": "subslide"
    }
   },
   "source": [
    "#### Podemos convertir variables a `int, float, complex, str`"
   ]
  },
  {
   "cell_type": "code",
   "execution_count": null,
   "metadata": {
    "slideshow": {
     "slide_type": "-"
    }
   },
   "outputs": [],
   "source": [
    "int(18.6)"
   ]
  },
  {
   "cell_type": "code",
   "execution_count": null,
   "metadata": {},
   "outputs": [],
   "source": [
    "round(18.6)"
   ]
  },
  {
   "cell_type": "code",
   "execution_count": null,
   "metadata": {},
   "outputs": [],
   "source": [
    "float(1)"
   ]
  },
  {
   "cell_type": "code",
   "execution_count": null,
   "metadata": {},
   "outputs": [],
   "source": [
    "complex(2)"
   ]
  },
  {
   "cell_type": "code",
   "execution_count": null,
   "metadata": {},
   "outputs": [],
   "source": [
    "str(256568)"
   ]
  },
  {
   "cell_type": "markdown",
   "metadata": {
    "slideshow": {
     "slide_type": "subslide"
    }
   },
   "source": [
    "## Variables\n",
    "\n",
    "Python reconoce automáticamente qué tipo de variable se está creando.\n",
    "\n",
    "- La asignación se realiza con el operador `=`\n",
    "- Los nombres de variables pueden contener letras, números y guión bajo."
   ]
  },
  {
   "cell_type": "code",
   "execution_count": null,
   "metadata": {
    "slideshow": {
     "slide_type": "-"
    }
   },
   "outputs": [],
   "source": [
    "a = 5\n",
    "b = \"diego\"\n",
    "\n",
    "a, b"
   ]
  },
  {
   "cell_type": "code",
   "execution_count": null,
   "metadata": {
    "slideshow": {
     "slide_type": "fragment"
    }
   },
   "outputs": [],
   "source": [
    "type(a), type(b)"
   ]
  },
  {
   "cell_type": "markdown",
   "metadata": {},
   "source": [
    "Podemos realizar **asignaciones múltiples**"
   ]
  },
  {
   "cell_type": "code",
   "execution_count": null,
   "metadata": {},
   "outputs": [],
   "source": [
    "a, b = 5, 100\n",
    "a, b"
   ]
  },
  {
   "cell_type": "markdown",
   "metadata": {},
   "source": [
    "## Operadores de comparación\n",
    "\n",
    "Los operadores de comparación son:\n",
    "\n",
    "- `==` igual a\n",
    "- `!=` distinto de\n",
    "- `<` menor que\n",
    "- `<=` menor o igual que\n",
    "\n",
    "Devolverán un booleano: `True` o `False`"
   ]
  },
  {
   "cell_type": "code",
   "execution_count": null,
   "metadata": {},
   "outputs": [],
   "source": [
    "a == b"
   ]
  },
  {
   "cell_type": "code",
   "execution_count": null,
   "metadata": {},
   "outputs": [],
   "source": [
    "a != b"
   ]
  },
  {
   "cell_type": "code",
   "execution_count": null,
   "metadata": {},
   "outputs": [],
   "source": [
    "print(a < b)\n",
    "print(a <= b)\n",
    "print(a > b)\n",
    "print(a >= b)\n",
    "# Tip: Tras rodar el primer comando,vea lo que pasa si pulsa\n",
    "# la flecha hacia arriba"
   ]
  },
  {
   "cell_type": "markdown",
   "metadata": {},
   "source": [
    "Podemos incluso saber si un número está en un intervalo"
   ]
  },
  {
   "cell_type": "code",
   "execution_count": null,
   "metadata": {},
   "outputs": [],
   "source": [
    "x = 5\n",
    "3 < x < 10"
   ]
  },
  {
   "cell_type": "markdown",
   "metadata": {},
   "source": [
    "## Booleanos"
   ]
  },
  {
   "cell_type": "code",
   "execution_count": null,
   "metadata": {},
   "outputs": [],
   "source": [
    "True and False"
   ]
  },
  {
   "cell_type": "code",
   "execution_count": null,
   "metadata": {},
   "outputs": [],
   "source": [
    "not False"
   ]
  },
  {
   "cell_type": "code",
   "execution_count": null,
   "metadata": {},
   "outputs": [],
   "source": [
    "True or False"
   ]
  },
  {
   "cell_type": "code",
   "execution_count": null,
   "metadata": {},
   "outputs": [],
   "source": [
    "# Una curiosidad\n",
    "(True + True) * 10\n",
    "\n",
    "# Además note el uso del símbolo # para agregar comentarios al código"
   ]
  },
  {
   "cell_type": "markdown",
   "metadata": {
    "slideshow": {
     "slide_type": "slide"
    }
   },
   "source": [
    "# Estructuras de datos\n",
    "\n",
    "Colección de elementos usados para almacenar datos relacionados.  \n",
    "Principales tipos de estructuras: listas, tuplas, diccionarios"
   ]
  },
  {
   "cell_type": "markdown",
   "metadata": {
    "slideshow": {
     "slide_type": "subslide"
    }
   },
   "source": [
    "## Listas\n",
    "\n",
    "- Se pueden modificar, añadir o eliminar elementos.\n",
    "- Se crean usando corchetes rectos `[ ]` o el método `list()`\n"
   ]
  },
  {
   "cell_type": "code",
   "execution_count": null,
   "metadata": {
    "slideshow": {
     "slide_type": "-"
    }
   },
   "outputs": [],
   "source": [
    "lista = [1, 2, 3.0, 4.17, '5' ]\n",
    "lista"
   ]
  },
  {
   "cell_type": "code",
   "execution_count": null,
   "metadata": {},
   "outputs": [],
   "source": [
    "lista.append('6') # Añadir un elemento\n",
    "lista.remove(3.0) # Eliminar un elemento\n",
    "\n",
    "print(lista)\n",
    "print(lista[0])    # Acceder al primer elemento, empieza en CERO\n",
    "print(lista[3])    # Acceder al cuarto elemento\n",
    "print(lista[-1])   # Acceder al último elemento\n"
   ]
  },
  {
   "cell_type": "markdown",
   "metadata": {
    "slideshow": {
     "slide_type": "subslide"
    }
   },
   "source": [
    "## Tuplas\n",
    "\n",
    "- No se pueden modificar después de creadas.\n",
    "- La creación y acceso a una tupla es más rápida que a una lista\n",
    "- Se crean usando parentesis `( )` o el método `tuple()`"
   ]
  },
  {
   "cell_type": "code",
   "execution_count": null,
   "metadata": {},
   "outputs": [],
   "source": [
    "tupla = (1, '2', 3, 4.0, 5e-17)\n",
    "tupla"
   ]
  },
  {
   "cell_type": "code",
   "execution_count": null,
   "metadata": {},
   "outputs": [],
   "source": [
    "print(tupla[-1])   # Acceso es igual que con listas"
   ]
  },
  {
   "cell_type": "markdown",
   "metadata": {},
   "source": [
    "### Otras funciones útiles"
   ]
  },
  {
   "cell_type": "code",
   "execution_count": null,
   "metadata": {},
   "outputs": [],
   "source": [
    "# Tamaño de la colección\n",
    "len(lista), len(tupla)"
   ]
  },
  {
   "cell_type": "code",
   "execution_count": null,
   "metadata": {},
   "outputs": [],
   "source": [
    "2 in lista"
   ]
  },
  {
   "cell_type": "markdown",
   "metadata": {},
   "source": [
    "#### Podemos indexar las secuencias, utilizando la sintaxis \n",
    "`[<inicio>:<final>:<salto>]`"
   ]
  },
  {
   "cell_type": "code",
   "execution_count": null,
   "metadata": {},
   "outputs": [],
   "source": [
    "a = [0, 1, 2, 3, 4, 5, 6, 7, 8, 9]\n",
    "\n",
    "print(a)  \n",
    "\n",
    "print(a[0:10:1])\n",
    "\n",
    "print(a[:4] )  # Imprime desde el primero hasta el cuarto elemento\n",
    "\n",
    "print(a[::2])  # Imprime desde el comienzo al final, en saltos de 2\n",
    "\n",
    "print(a[::-1]) # Revierte la lista\n"
   ]
  },
  {
   "cell_type": "markdown",
   "metadata": {
    "slideshow": {
     "slide_type": "subslide"
    }
   },
   "source": [
    "### Diccionarios\n",
    "\n",
    "- Son una forma más avanzada para manipular colecciones de datos.\n",
    "- Cada elemento requiere una llave y un valor.\n",
    "- Se crean usando corchetes `{ clave : valor }` o el método `dict()`"
   ]
  },
  {
   "cell_type": "code",
   "execution_count": null,
   "metadata": {},
   "outputs": [],
   "source": [
    "diccionario = {\n",
    "    'nombre'  : 'Diego', \n",
    "    'celular' : 'Nokia 1100'\n",
    "    }\n",
    "\n",
    "diccionario"
   ]
  },
  {
   "cell_type": "code",
   "execution_count": null,
   "metadata": {},
   "outputs": [],
   "source": [
    "diccionario['nombre']   # Los elementos se acceden con la clave."
   ]
  },
  {
   "cell_type": "code",
   "execution_count": null,
   "metadata": {},
   "outputs": [],
   "source": [
    "# Los elementos pueden ser modificados,\n",
    "# y se pueden eliminar o agregar elementos\n",
    "diccionario['nombre'] = 'Andrés'\n",
    "diccionario['números favoritos'] = [5,7,11]\n",
    "\n",
    "print(diccionario)"
   ]
  },
  {
   "cell_type": "code",
   "execution_count": null,
   "metadata": {},
   "outputs": [],
   "source": [
    "del(diccionario['celular'])\n",
    "print('\\n',diccionario)"
   ]
  },
  {
   "cell_type": "markdown",
   "metadata": {
    "slideshow": {
     "slide_type": "slide"
    }
   },
   "source": [
    "# Indentación en Python\n",
    "\n",
    "Los bloques de código en Python se esctructuran por la indentación.\n",
    "\n",
    "En otros lenguajes se usa el punto y coma `;` y los corchetes `{}` para saber dónde termina un bloque de código, y la indentación es un estilo para leer mejor.\n",
    "\n",
    "En **Python** la indentación es un requisito y facilita la lectura del código, esta identación se puede hacer con `espacios` o `tabs`.\n",
    "\n",
    "<img src=\"images/blocks.png\">"
   ]
  },
  {
   "cell_type": "markdown",
   "metadata": {
    "slideshow": {
     "slide_type": "subslide"
    }
   },
   "source": [
    "## Tabs vs Espacios\n",
    "\n",
    "La mayoría de editores de texto convierten un `tab` en `4 espacios` por lo que esta se considera la medida por defecto.\n",
    "\n",
    "<img src=\"images/tabs_vs_spaces.png\" width=60%>"
   ]
  },
  {
   "cell_type": "markdown",
   "metadata": {
    "slideshow": {
     "slide_type": "slide"
    }
   },
   "source": [
    "## Estructura `if`\n",
    "\n",
    "### *Especial atención a la indentación a 4 espacios.*"
   ]
  },
  {
   "cell_type": "code",
   "execution_count": null,
   "metadata": {},
   "outputs": [],
   "source": [
    "x = input(\"Por favor, introduzca un número: \")\n",
    "\n",
    "if x < 0:\n",
    "    print('Es un número negativo')"
   ]
  },
  {
   "cell_type": "code",
   "execution_count": null,
   "metadata": {
    "slideshow": {
     "slide_type": "-"
    }
   },
   "outputs": [],
   "source": [
    "x = int(input(\"Por favor, introduzca un número: \"))\n",
    "\n",
    "if x < 0:\n",
    "    print('Es un número negativo')\n",
    "elif x == 0:\n",
    "    print('Cero')\n",
    "else:\n",
    "    print('Es positivo')\n"
   ]
  },
  {
   "cell_type": "markdown",
   "metadata": {
    "slideshow": {
     "slide_type": "subslide"
    }
   },
   "source": [
    "## Estructura `for` y función `range()`"
   ]
  },
  {
   "cell_type": "markdown",
   "metadata": {},
   "source": [
    "### range( stop)"
   ]
  },
  {
   "cell_type": "code",
   "execution_count": null,
   "metadata": {},
   "outputs": [],
   "source": [
    "# Imprime los números del 0 al 9\n",
    "for i in range(5):\n",
    "    print(i)"
   ]
  },
  {
   "cell_type": "markdown",
   "metadata": {},
   "source": [
    "### range( start, stop, step)"
   ]
  },
  {
   "cell_type": "code",
   "execution_count": null,
   "metadata": {},
   "outputs": [],
   "source": [
    "# Imprime los números del 10 al 100, en pasos de 20\n",
    "for i in range(10, 101, 20):\n",
    "    print(i)"
   ]
  },
  {
   "cell_type": "markdown",
   "metadata": {},
   "source": [
    "También podemos recorrer directamente los elementos de una lista, tupla, set o diccionario."
   ]
  },
  {
   "cell_type": "code",
   "execution_count": null,
   "metadata": {
    "slideshow": {
     "slide_type": "-"
    }
   },
   "outputs": [],
   "source": [
    "words = ['gato', 'ventana', 'melifluo']\n",
    "\n",
    "for w in words:\n",
    "    print(w, len(w))"
   ]
  },
  {
   "cell_type": "code",
   "execution_count": null,
   "metadata": {
    "slideshow": {
     "slide_type": "fragment"
    }
   },
   "outputs": [],
   "source": [
    "numbers = (0,1,2,3,4,5,6,7,8,9)\n",
    "\n",
    "for n in numbers:\n",
    "    print(n)\n",
    "    if n == 7:\n",
    "        print('Salimos del loop al llegar al siete.')\n",
    "        break"
   ]
  },
  {
   "cell_type": "code",
   "execution_count": null,
   "metadata": {},
   "outputs": [],
   "source": [
    "diccionario = {\n",
    "    'nombre'  : 'Diego', \n",
    "    'celular' : 'Nokia 1100'\n",
    "    }\n",
    "\n",
    "for key, value in diccionario.items():\n",
    "    print(key)\n",
    "    print(value)"
   ]
  },
  {
   "cell_type": "markdown",
   "metadata": {
    "slideshow": {
     "slide_type": "subslide"
    }
   },
   "source": [
    "## Estructura `while`\n",
    "\n",
    "Repetir un segmento de código mientras se cumpla una condición.\n",
    "\n",
    "*Atención para evitar los búcles infinitos*"
   ]
  },
  {
   "cell_type": "code",
   "execution_count": null,
   "metadata": {},
   "outputs": [],
   "source": [
    "# Vamos a generar las potencias de 2 menores que 10000,\n",
    "# sin saber previamente cuántos números son\n",
    "a = 1\n",
    "potencias = []\n",
    "\n",
    "while( a < 10000 ):\n",
    "    potencias.append(a)\n",
    "    a = 2*a\n",
    "    print(a)\n",
    "\n",
    "print(potencias)"
   ]
  },
  {
   "cell_type": "markdown",
   "metadata": {
    "slideshow": {
     "slide_type": "slide"
    }
   },
   "source": [
    "## Ejercicio de Programación: \n",
    "\n",
    "Escriba un programa que imprima los números del 1 al 100, pero que para los múltiplos de 3 imprima `Fizz` en lugar del número y para los múltiplos de 5 imprima `Buzz`.\n",
    "\n",
    "Para números que son múltiplos de 3 y 5 imprima `FizzBuzz`."
   ]
  },
  {
   "cell_type": "code",
   "execution_count": null,
   "metadata": {
    "slideshow": {
     "slide_type": "fragment"
    }
   },
   "outputs": [],
   "source": [
    "for num in range(1, 100):\n",
    "    if num % 3 == 0 and num % 5 == 0:\n",
    "        print('FizzBuzz')\n",
    "    elif num % 3 == 0:\n",
    "        print('Fizz')\n",
    "    elif num % 5 == 0:\n",
    "        print('Buzz')\n",
    "    else:\n",
    "        print(num)"
   ]
  },
  {
   "cell_type": "markdown",
   "metadata": {},
   "source": [
    "## Ejercicio de Programación: \n",
    "\n",
    "Intente el mismo ejercicio, pero esta vez en lugar de imprimir los números en pantalla\n",
    "almacénelos en un diccionario con las claves `'Fizz'`, `'Buzz'`, y `'FizzBuzz'`."
   ]
  },
  {
   "cell_type": "markdown",
   "metadata": {},
   "source": [
    "## Comandos de ayuda y atributos propios de los diferentes tipos de estructuras"
   ]
  },
  {
   "cell_type": "code",
   "execution_count": null,
   "metadata": {},
   "outputs": [],
   "source": [
    "# Ya vimos que las listas tienen los métodos .append y .remove\n",
    "lista = [1, 2, 3, 4]\n",
    "\n",
    "lista.append('5') # Añadir un elemento\n",
    "lista.remove(3.0) # Eliminar un elemento\n",
    "\n",
    "print(lista)"
   ]
  },
  {
   "cell_type": "markdown",
   "metadata": {},
   "source": [
    "### ¿Qué otros métodos existen para este tipo de estructuras?\n",
    "Para saberlo digite el nombre de la variable, un punto, y el tabulador.  \n",
    "\n",
    "`lista.` + `tab`  \n",
    "\n",
    "Al digitar `tab` Python examina y nos muestras las distintas posibilidades que tienen sentido para completar una línea de código, en caso de hallar algunas."
   ]
  },
  {
   "cell_type": "code",
   "execution_count": null,
   "metadata": {},
   "outputs": [],
   "source": [
    "# Para saber en qué consiste, por ejemplo, el método copy(), digite:\n",
    "lista.copy?\n",
    "new_list = lista.copy()"
   ]
  },
  {
   "cell_type": "markdown",
   "metadata": {},
   "source": [
    "## Aliasing"
   ]
  },
  {
   "cell_type": "code",
   "execution_count": null,
   "metadata": {},
   "outputs": [],
   "source": [
    "# Es posible \"copiar\" un elemento de forma más directa,\n",
    "# sin embargo esto puede generar inconvenientes en algunos casos:\n",
    "new_list = lista\n",
    "\n",
    "print(new_list)"
   ]
  },
  {
   "cell_type": "code",
   "execution_count": null,
   "metadata": {},
   "outputs": [],
   "source": [
    "new_list[0] = 8\n",
    "\n",
    "print(new_list)\n",
    "print(lista)"
   ]
  },
  {
   "cell_type": "code",
   "execution_count": null,
   "metadata": {},
   "outputs": [],
   "source": [
    "lista = [1, 2, 3, 4]\n",
    "new_list = lista.copy()\n",
    "\n",
    "new_list[0] = 8\n",
    "\n",
    "print(new_list)\n",
    "print(lista)"
   ]
  },
  {
   "cell_type": "markdown",
   "metadata": {},
   "source": [
    "El problema observado en el primer caso se conoce como **_aliasing_**, y ocurre por que Python no creó una nueva variable, sino una vista de la variable original. Para evitar comportamientos indeseados, en general es más seguro utilizar el método `.copy()`"
   ]
  },
  {
   "cell_type": "markdown",
   "metadata": {
    "slideshow": {
     "slide_type": "slide"
    }
   },
   "source": [
    "# Funciones\n",
    "\n",
    "- Una función es un bloque de código reutilizable que solo corre al ser llamado.\n",
    "- Se le puede pasar parámetros de entrada.\n",
    "- Puede returnar datos como resultado.\n",
    "- Una funcion es definida usando la palabra `def`"
   ]
  },
  {
   "cell_type": "code",
   "execution_count": null,
   "metadata": {
    "slideshow": {
     "slide_type": "-"
    }
   },
   "outputs": [],
   "source": [
    "def my_function():\n",
    "    print(f'Hola mundo, desde mi función.')\n",
    "\n",
    "my_function()"
   ]
  },
  {
   "cell_type": "markdown",
   "metadata": {
    "slideshow": {
     "slide_type": "subslide"
    }
   },
   "source": [
    "### Atributos de una función"
   ]
  },
  {
   "cell_type": "code",
   "execution_count": null,
   "metadata": {
    "slideshow": {
     "slide_type": "-"
    }
   },
   "outputs": [],
   "source": [
    "def my_function(nombre, msj='Bienvenido a la UIS.'):\n",
    "    print(f'Hola {nombre}, {msj}')\n",
    "    \n",
    "my_function('Diego')"
   ]
  },
  {
   "cell_type": "code",
   "execution_count": null,
   "metadata": {},
   "outputs": [],
   "source": [
    "my_function('Diego', 'quedaste PFU.')"
   ]
  },
  {
   "cell_type": "markdown",
   "metadata": {
    "slideshow": {
     "slide_type": "subslide"
    }
   },
   "source": [
    "### Retornar valores"
   ]
  },
  {
   "cell_type": "code",
   "execution_count": null,
   "metadata": {
    "slideshow": {
     "slide_type": "-"
    }
   },
   "outputs": [],
   "source": [
    "def multiplicador(x):\n",
    "    return 5*x\n",
    "\n",
    "multiplicador(10)"
   ]
  },
  {
   "cell_type": "code",
   "execution_count": null,
   "metadata": {},
   "outputs": [],
   "source": [
    "def multiplicacion(x,y):\n",
    "    z = x*y\n",
    "    return z\n",
    "\n",
    "multiplicacion(7,3)"
   ]
  },
  {
   "cell_type": "markdown",
   "metadata": {},
   "source": [
    "## Ejemplo más completo\n",
    "\n",
    "1. Cree un archivo llamado `calculadora.py` en la misma carpeta en que está trabajando. Para verificar su ubicación, en `ipython` digite `pwd`, y para crear el archivo, utilice por ejemplo el editor de texto `gedit`\n",
    "\n",
    "2. En el archivo `calculadora.py` crear 4 funciones para sumar, restar, multiplicar y dividir dos números enteros, controle la división por 0 usando un if.\n",
    "\n",
    "3. Ahora en `ipython` digitamos:  \n",
    "\n",
    "```python\n",
    "from calculadora import suma, resta, multiplicacion, division\n",
    "\n",
    "a = 1\n",
    "b = 3.14\n",
    "\n",
    "print(f'{a} + {b} = {suma(a,b)}')\n",
    "print(f'{a} - {b} = {resta(a,b)}')\n",
    "print(f'{a} * {b} = {multiplicacion(a,b)}')\n",
    "print(f'{a} / {b} = {division(a,b)}')\n",
    "print(f'{a} / {0} = {division(a,0)}')\n",
    "\n",
    "```"
   ]
  },
  {
   "cell_type": "markdown",
   "metadata": {
    "slideshow": {
     "slide_type": "subslide"
    }
   },
   "source": [
    "## Escribir y correr programas de python\n",
    "\n",
    "Aprovechando el ejemplo anterior, vamos a apreder como crear un programa con toda una serie de instrucciones para ejecutarlo de forma no interactiva.\n",
    "\n",
    "1. Cree un segundo archivo llamado `principal.py` en el mismo directorio de trabajo\n",
    "\n",
    "2. Digite los mismos comandos del ejemplo anterior en el archivo `principal.py`\n",
    "\n",
    "```python\n",
    "from calculadora import suma, resta, multiplicacion, division\n",
    "\n",
    "a = 1\n",
    "b = 3.14\n",
    "\n",
    "print(f'{a} + {b} = {suma(a,b)}')\n",
    "print(f'{a} - {b} = {resta(a,b)}')\n",
    "print(f'{a} * {b} = {multiplicacion(a,b)}')\n",
    "print(f'{a} / {b} = {division(a,b)}')\n",
    "print(f'{a} / {0} = {division(a,0)}')\n",
    "\n",
    "```\n",
    "\n",
    "3. Abra una nueva pestaña del terminal usando `ctrl`+`alt`+`t`\n",
    "\n",
    "4. Verifique que se encuentra en el directorio correcto usando el comando `pwd`\n",
    "\n",
    "5. Ruede su programa digitando `python principal.py`\n"
   ]
  },
  {
   "cell_type": "markdown",
   "metadata": {},
   "source": [
    "## Fin de la primera parte\n",
    "\n",
    "Para cerrar la sesión de `IPYTHON` digite `exit`. Para salir del terminal, digite `exit` nuevamente."
   ]
  },
  {
   "cell_type": "markdown",
   "metadata": {},
   "source": [
    "## Resumen:\n",
    "\n",
    "- Conoce las operaciones matemáticas básicas y comparadores booleanos.\n",
    "- Maneja de estructuras de datos `list`, `tuple`, `dict`\n",
    "- Entiende el bloque de código y la indentación.\n",
    "- Sabe usar las estructuras condicionales `if`, `elif`, `else`\n",
    "- Puede usar los bucles para iterar en listas y rangos `for..in`, `while`\n",
    "- Puede crear funciones e importar estas como módulos `def`, `import`"
   ]
  }
 ],
 "metadata": {
  "kernelspec": {
   "display_name": "Python 3",
   "language": "python",
   "name": "python3"
  },
  "language_info": {
   "codemirror_mode": {
    "name": "ipython",
    "version": 3
   },
   "file_extension": ".py",
   "mimetype": "text/x-python",
   "name": "python",
   "nbconvert_exporter": "python",
   "pygments_lexer": "ipython3",
   "version": "3.7.1"
  }
 },
 "nbformat": 4,
 "nbformat_minor": 2
}
